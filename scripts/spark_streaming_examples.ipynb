{
 "cells": [
  {
   "cell_type": "code",
   "execution_count": null,
   "metadata": {},
   "outputs": [
    {
     "name": "stderr",
     "output_type": "stream",
     "text": [
      "your 131072x1 screen size is bogus. expect trouble\n",
      "24/12/23 14:03:40 WARN Utils: Your hostname, MSI resolves to a loopback address: 127.0.1.1; using 10.255.255.254 instead (on interface lo)\n",
      "24/12/23 14:03:40 WARN Utils: Set SPARK_LOCAL_IP if you need to bind to another address\n",
      "Setting default log level to \"WARN\".\n",
      "To adjust logging level use sc.setLogLevel(newLevel). For SparkR, use setLogLevel(newLevel).\n",
      "24/12/23 14:03:40 WARN NativeCodeLoader: Unable to load native-hadoop library for your platform... using builtin-java classes where applicable\n",
      "24/12/23 14:03:41 WARN Utils: Service 'SparkUI' could not bind on port 4040. Attempting port 4041.\n",
      "24/12/23 14:03:42 WARN ResolveWriteToStream: Temporary checkpoint location created which is deleted normally when the query didn't fail: /tmp/temporary-737ce4f4-44a4-4135-a1a1-366bdc471cdb. If it's required to delete it under any circumstances, please set spark.sql.streaming.forceDeleteTempCheckpointLocation to true. Important to know deleting temp checkpoint folder is best effort.\n",
      "24/12/23 14:03:42 WARN ResolveWriteToStream: spark.sql.adaptive.enabled is not supported in streaming DataFrames/Datasets and will be disabled.\n"
     ]
    }
   ],
   "source": [
    "from pyspark import SparkContext\n",
    "from pyspark.streaming import StreamingContext\n",
    "from pyspark.sql import Row,SparkSession\n",
    "from pyspark.sql import functions as fun \n",
    "\n",
    "# Create a SparkSession\n",
    "spark = SparkSession.builder.appName(\"StructuredStreaming\").getOrCreate()\n",
    "\n",
    "# Monitor the logs directory for new log data, and read in the raw lines as accessLines\n",
    "accessLines = spark.readStream.text(\"../resources/logs\")\n",
    "\n",
    "# Parse out the common log format to a DataFrame\n",
    "contentSizeExp = r'\\s(\\d+)$'\n",
    "statusExp = r'\\s(\\d{3})\\s'\n",
    "generalExp = r'\\\"(\\S+)\\s(\\S+)\\s*(\\S*)\\\"'\n",
    "timeExp = r'\\[(\\d{2}/\\w{3}/\\d{4}:\\d{2}:\\d{2}:\\d{2} -\\d{4})]'\n",
    "hostExp = r'(^\\S+\\.[\\S+\\.]+\\S+)\\s'\n",
    "\n",
    "logsDF = accessLines.select(fun.regexp_extract('value', hostExp, 1).alias('host'),\n",
    "                         fun.regexp_extract('value', timeExp, 1).alias('timestamp'),\n",
    "                         fun.regexp_extract('value', generalExp, 1).alias('method'),\n",
    "                         fun.regexp_extract('value', generalExp, 2).alias('endpoint'),\n",
    "                         fun.regexp_extract('value', generalExp, 3).alias('protocol'),\n",
    "                         fun.regexp_extract('value', statusExp, 1).cast('integer').alias('status'),\n",
    "                         fun.regexp_extract('value', contentSizeExp, 1).cast('integer').alias('content_size'))\n",
    "\n",
    "# Keep a running count of every access by status code\n",
    "statusCountsDF = logsDF.groupBy(logsDF.status).count()\n",
    "\n",
    "# Kick off our streaming query, dumping results to the console\n",
    "query = ( statusCountsDF.writeStream.outputMode(\"complete\").format(\"console\").queryName(\"counts\").start() )\n",
    "\n",
    "# Run forever until terminated\n",
    "query.awaitTermination()\n",
    "\n",
    "# Cleanly shut down the session\n",
    "spark.stop()\n",
    "\n"
   ]
  }
 ],
 "metadata": {
  "kernelspec": {
   "display_name": "spark_env",
   "language": "python",
   "name": "python3"
  },
  "language_info": {
   "codemirror_mode": {
    "name": "ipython",
    "version": 3
   },
   "file_extension": ".py",
   "mimetype": "text/x-python",
   "name": "python",
   "nbconvert_exporter": "python",
   "pygments_lexer": "ipython3",
   "version": "3.10.16"
  }
 },
 "nbformat": 4,
 "nbformat_minor": 2
}
